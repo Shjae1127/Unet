{
 "cells": [
  {
   "cell_type": "code",
   "execution_count": 1,
   "metadata": {},
   "outputs": [],
   "source": [
    "import os\n",
    "import numpy as np\n",
    "import torch\n",
    "import torch.nn as nn\n",
    "from torch.utils.data import DataLoader\n",
    "import matplotlib.pyplot as plt\n",
    "from torchvision import transforms, datasets\n",
    "from torch.utils.tensorboard import SummaryWriter\n",
    "import argparse\n",
    "from model import UNet          # UNet model\n",
    "from dataset import *               # Dataset class & transform function\n",
    "from utils import *                     # save & load function"
   ]
  },
  {
   "cell_type": "code",
   "execution_count": 2,
   "metadata": {},
   "outputs": [],
   "source": [
    "parser = argparse.ArgumentParser(\n",
    "    description=\"Train the Unet\", formatter_class=argparse.ArgumentDefaultsHelpFormatter)\n",
    "parser.add_argument(\"--lr\", default=1e-3, type=float, dest=\"lr\")\n",
    "parser.add_argument(\"--batch_size\", default=4, type=int, dest=\"batch_size\")\n",
    "parser.add_argument(\"--num_epoch\", default=100, type=int, dest=\"num_epoch\")\n",
    "parser.add_argument(\"--data_dir\", default=os.path.abspath('.')+\"/data\",\n",
    "                    type=str, dest=\"data_dir\")\n",
    "parser.add_argument(\"--ckpt_dir\", default=os.path.abspath('.')+\"/checkpoint\",\n",
    "                    type=str, dest=\"ckpt_dir\")\n",
    "parser.add_argument(\"--log_dir\", default=os.path.abspath('.') + \"/log\",\n",
    "                    type=str, dest=\"log_dir\")\n",
    "parser.add_argument(\"--result_dir\", default=os.path.abspath('.')+\"/results\", type=str, dest=\"result_dir\")\n",
    "parser.add_argument(\"--mode\", default=\"test\", type=str, dest=\"mode\")\n",
    "parser.add_argument(\"--train_continue\", default=\"off\", type=str, dest=\"train_continue\")\n",
    "args = parser.parse_args(args=[])\n"
   ]
  },
  {
   "cell_type": "code",
   "execution_count": 3,
   "metadata": {},
   "outputs": [
    {
     "name": "stdout",
     "output_type": "stream",
     "text": [
      "running on the CPU\n"
     ]
    }
   ],
   "source": [
    "lr = args.lr\n",
    "batch_size = args.batch_size\n",
    "num_epoch = args.num_epoch\n",
    "data_dir = args.data_dir\n",
    "ckpt_dir = args.ckpt_dir\n",
    "log_dir = args.log_dir\n",
    "result_dir = args.result_dir\n",
    "mode = args.mode\n",
    "train_continue = args.train_continue\n",
    "\n",
    "device = torch.device('cuda' if torch.cuda.is_available() else 'cpu')\n",
    "if torch.cuda.is_available():\n",
    "    device = torch.device(\"cuda:0\")\n",
    "    print(\"running on the GPU\")\n",
    "else:\n",
    "    device = torch.device(\"cpu\")\n",
    "    print(\"running on the CPU\")"
   ]
  },
  {
   "cell_type": "markdown",
   "metadata": {},
   "source": [
    "<img src=\"https://miro.medium.com/max/1200/1*qNdglJ1ORP3Gq77MmBLhHQ.png\">"
   ]
  },
  {
   "cell_type": "markdown",
   "metadata": {},
   "source": [
    "kernel_size(Convolution의 view, 2차원에서는 대부분 3x3 pixel), stride(이미지를 스캔할 때 kernel의 step size), bias는 CBR layer를 구축하는데 있어 값이 고정됨 >> 이 값들이 뭐하는 얘들이지?\n",
    "각각의 함수가 의미하는 transforms"
   ]
  },
  {
   "cell_type": "code",
   "execution_count": 4,
   "metadata": {},
   "outputs": [],
   "source": [
    "if not os.path.exists(result_dir):\n",
    "    os.makedirs(os.path.join(result_dir, \"png\"))\n",
    "    os.makedirs(os.path.join(result_dir, \"numpy\"))"
   ]
  },
  {
   "cell_type": "markdown",
   "metadata": {},
   "source": [
    "### train network"
   ]
  },
  {
   "cell_type": "code",
   "execution_count": 5,
   "metadata": {},
   "outputs": [],
   "source": [
    "if mode == \"train\":\n",
    "    transform = transforms.Compose([\n",
    "        Normalization(mean=0.5, std=0.5),\n",
    "        RandomFlip(),\n",
    "        ToTensor(),\n",
    "    ])\n",
    "    dataset_train = Dataset(data_dir=os.path.join(data_dir, 'train'), transform=transform)\n",
    "    loader_train = DataLoader(dataset_train, batch_size=batch_size, shuffle=True, num_workers=0)\n",
    "\n",
    "    dataset_val = Dataset(data_dir=os.path.join(data_dir, 'val'), transform=transform)\n",
    "    loader_val = DataLoader(dataset_val, batch_size=batch_size, shuffle=True, num_workers=0)\n",
    "    # set variables\n",
    "    num_data_train = len(dataset_train)\n",
    "    num_data_val = len(dataset_val)\n",
    "\n",
    "    num_batch_train = np.ceil(num_data_train / batch_size)\n",
    "    num_batch_val = np.ceil(num_data_val / batch_size)\n",
    "    \n",
    "else:\n",
    "    transform = transforms.Compose([\n",
    "        Normalization(mean=0.5, std=0.5),\n",
    "        ToTensor(),\n",
    "    ])\n",
    "\n",
    "    dataset_test = Dataset(data_dir=os.path.join(data_dir, 'test'), transform=transform)\n",
    "    loader_test = DataLoader(dataset_test, batch_size=batch_size, shuffle=False, num_workers=0)\n",
    "    # set variables\n",
    "    num_data_test = len(dataset_test)\n",
    "\n",
    "    num_batch_test = np.ceil(num_data_test / batch_size)\n"
   ]
  },
  {
   "cell_type": "code",
   "execution_count": 6,
   "metadata": {},
   "outputs": [],
   "source": [
    "# build network\n",
    "net = UNet().to(device)"
   ]
  },
  {
   "cell_type": "code",
   "execution_count": 7,
   "metadata": {},
   "outputs": [],
   "source": [
    "# define loss function\n",
    "fn_loss = nn.BCEWithLogitsLoss().to(device)"
   ]
  },
  {
   "cell_type": "code",
   "execution_count": 10,
   "metadata": {},
   "outputs": [],
   "source": [
    "# set optimizer\n",
    "optim = torch.optim.Adam(net.parameters(), lr=lr)"
   ]
  },
  {
   "cell_type": "code",
   "execution_count": 11,
   "metadata": {},
   "outputs": [],
   "source": [
    "# sub functions\n",
    "\n",
    "fn_tonumpy = lambda x: x.to('cpu').detach().numpy().transpose(0, 2, 3, 1)\n",
    "fn_denorm = lambda x, mean, std: (x * std) + mean\n",
    "fn_class = lambda x: 1.0 * (x > 0.5)"
   ]
  },
  {
   "cell_type": "code",
   "execution_count": 12,
   "metadata": {},
   "outputs": [],
   "source": [
    "# set SummaryWriter for Tensorboard\n",
    "writer_train = SummaryWriter(log_dir=os.path.join(log_dir, 'train'))\n",
    "writer_val = SummaryWriter(log_dir=os.path.join(log_dir, 'val'))"
   ]
  },
  {
   "cell_type": "code",
   "execution_count": 13,
   "metadata": {},
   "outputs": [],
   "source": [
    "st_epoch =0\n",
    "net, optim, st_epoch = load(ckpt_dir=ckpt_dir, net=net, optim=optim)"
   ]
  },
  {
   "cell_type": "code",
   "execution_count": 14,
   "metadata": {},
   "outputs": [
    {
     "name": "stdout",
     "output_type": "stream",
     "text": [
      "Test: Batch 0001 / 0001 | Loss 0.2794\n",
      "Average: Batch 0001 / 0001 | Loss 0.2794\n"
     ]
    }
   ],
   "source": [
    "# train nework\n",
    "\n",
    "st_epoch =0\n",
    "\n",
    "if mode == \"train\":\n",
    "    min_loss = float('inf')\n",
    "    if train_continue == \"on\":\n",
    "        net, optim, st_epoch = load(ckpt_dir=ckpt_dir, net=net, optim=optim)\n",
    "    for epoch in range(st_epoch + 1, num_epoch +1):\n",
    "        net.train()\n",
    "        loss_arr = []\n",
    "        for batch, data in enumerate(loader_train, 1):\n",
    "            # forward pass\n",
    "            label = data['label'].to(device)\n",
    "            input = data['input'].to(device)\n",
    "            \n",
    "            output = net(input)\n",
    "            \n",
    "            # backward pass\n",
    "            \n",
    "            optim.zero_grad()\n",
    "            \n",
    "            loss = fn_loss(output, label)\n",
    "            loss.backward()\n",
    "            \n",
    "            optim.step()\n",
    "            \n",
    "            # calculate loss function\n",
    "            loss_arr +=[loss.item()]\n",
    "            \n",
    "            print(\"Train: Epoch %04d / %04d | Batch %04d / %04d | Loss %.4f\" %(epoch, num_epoch, batch, num_batch_train, np.mean(loss_arr)))\n",
    "            \n",
    "            #save Tensorboard\n",
    "            \n",
    "            label = fn_tonumpy(label)\n",
    "            input = fn_tonumpy(fn_denorm(input, mean=0.5, std=0.5))\n",
    "            output = fn_tonumpy(fn_class(output))\n",
    "            \n",
    "            writer_train.add_image('label', label, num_batch_train * (epoch - 1) + batch, dataformats='NHWC')\n",
    "            writer_train.add_image('input', input, num_batch_train * (epoch - 1) + batch, dataformats='NHWC')\n",
    "            writer_train.add_image('output', output, num_batch_train * (epoch - 1) + batch, dataformats='NHWC')\n",
    "        \n",
    "        writer_val.add_scalar('loss', np.mean(loss_arr), epoch)\n",
    "        \n",
    "        with torch.no_grad():\n",
    "            net.eval()\n",
    "            loss_arr = []\n",
    "            \n",
    "            for batch, data in enumerate(loader_val, 1):\n",
    "                \n",
    "                # forward pass\n",
    "                label = data['label'].to(device)\n",
    "                input = data['input'].to(device)\n",
    "                \n",
    "                output = net(input)\n",
    "                \n",
    "                #calculate loss function\n",
    "                loss = fn_loss(output, label)\n",
    "                \n",
    "                loss_arr += [loss.item()]\n",
    "                \n",
    "                print(\"Valid: Epoch %04d / %04d Batch %04d / %04d | Loss %.4f\" %(epoch, num_epoch, batch, num_batch_val, np.mean(loss_arr)))\n",
    "                \n",
    "                # save Tensorboard \n",
    "                label = fn_tonumpy(label)\n",
    "                input = fn_tonumpy(fn_denorm(input, mean=0.5, std=0.5))\n",
    "                output = fn_tonumpy(fn_class(output))\n",
    "                \n",
    "                writer_train.add_image('label', label, num_batch_train * (epoch - 1) + batch, dataformats='NHWC')\n",
    "                writer_train.add_image('input', input, num_batch_train * (epoch - 1) + batch, dataformats='NHWC')\n",
    "                writer_train.add_image('output', output, num_batch_train * (epoch - 1) + batch, dataformats='NHWC')\n",
    "        writer_val.add_scalar('loss', np.mean(loss_arr), epoch)\n",
    "        if min_loss > np.mean(loss_arr):\n",
    "            min_loss = np.mean(loss_arr)\n",
    "            save(ckpt_dir=ckpt_dir, net=net, optim=optim, epoch=epoch)\n",
    "    writer_train.close()\n",
    "    writer_val.close()\n",
    "     \n",
    "else:\n",
    "    # test nework\n",
    "    net, optim, st_epoch = load(ckpt_dir=ckpt_dir, net=net, optim=optim)\n",
    "    with torch.no_grad():\n",
    "        net.eval()\n",
    "        loss_arr = []\n",
    "        \n",
    "        for batch, data in enumerate(loader_test, 1):\n",
    "            \n",
    "            # forward pass\n",
    "            label = data['label'].to(device)\n",
    "            input = data['input'].to(device)\n",
    "            \n",
    "            output = net(input)\n",
    "            \n",
    "            #calculate loss function\n",
    "            loss = fn_loss(output, label)\n",
    "            \n",
    "            loss_arr += [loss.item()]\n",
    "            \n",
    "            print(\"Test: Batch %04d / %04d | Loss %.4f\" %(batch, num_batch_test, np.mean(loss_arr)))\n",
    "            \n",
    "            # save Tensorboard \n",
    "            label = fn_tonumpy(label)\n",
    "            input = fn_tonumpy(fn_denorm(input, mean=0.5, std=0.5))\n",
    "            output = fn_tonumpy(fn_class(output))\n",
    "            \n",
    "            for j in range(label.shape[0]):\n",
    "                id = num_batch_test * (batch - 1) + j\n",
    "                \n",
    "                plt.imsave(os.path.join(result_dir, 'png', 'label_%04d.png' %id), label[j].squeeze(), cmap='gray')\n",
    "                plt.imsave(os.path.join(result_dir, 'png', 'input_%04d.png' %id), input[j].squeeze(), cmap='gray')\n",
    "                plt.imsave(os.path.join(result_dir, 'png', 'output_%04d.png' %id), output[j].squeeze(), cmap='gray')\n",
    "                \n",
    "                np.save(os.path.join(result_dir, 'numpy', 'label_%04d.npy' %id), label[j].squeeze())\n",
    "                np.save(os.path.join(result_dir, 'numpy', 'input_%04d.npy' %id), input[j].squeeze())\n",
    "                np.save(os.path.join(result_dir, 'numpy', 'output_%04d.npy' %id), output[j].squeeze())\n",
    "                \n",
    "    print(\"Average: Batch %04d / %04d | Loss %.4f\" %(batch, num_batch_test, np.mean(loss_arr)))   "
   ]
  }
 ],
 "metadata": {
  "kernelspec": {
   "display_name": "Python 3.9.12 ('ML39')",
   "language": "python",
   "name": "python3"
  },
  "language_info": {
   "codemirror_mode": {
    "name": "ipython",
    "version": 3
   },
   "file_extension": ".py",
   "mimetype": "text/x-python",
   "name": "python",
   "nbconvert_exporter": "python",
   "pygments_lexer": "ipython3",
   "version": "3.9.12"
  },
  "orig_nbformat": 4,
  "vscode": {
   "interpreter": {
    "hash": "5b2a0bd4ed117a6fe44e77578467834bb0cc6cd7e4103225ef742c0e02086166"
   }
  }
 },
 "nbformat": 4,
 "nbformat_minor": 2
}
