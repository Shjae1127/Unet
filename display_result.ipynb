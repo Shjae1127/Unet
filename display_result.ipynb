{
 "cells": [
  {
   "cell_type": "code",
   "execution_count": null,
   "metadata": {},
   "outputs": [],
   "source": [
    "import os\n",
    "import numpy as np\n",
    "import matplotlib.pyplot as plt"
   ]
  },
  {
   "cell_type": "code",
   "execution_count": null,
   "metadata": {},
   "outputs": [],
   "source": [
    "result_dir = \"C:/Users/hjane/Desktop/Git/Unet/results\"\n",
    "\n",
    "lst_data = os.listdir(result_dir)\n",
    "\n",
    "lst_label = [f for f in lst_data if f.startswith('label')]\n",
    "lst_input = [f for f in lst_data if f.startswith('input')]\n",
    "lst_output = [f for f in lst_data if f.startswith('output')]\n",
    "lst_label.sort()\n",
    "lst_output.sort()\n",
    "lst_input.sort()\n",
    "\n",
    "id = 0\n",
    "\n",
    "label = np.load(os.path.join(result_dir, lst_label[id]))\n",
    "input = np.load(os.path.join(result_dir, lst_input[id]))\n",
    "output = np.load(os.path.join(result_dir, lst_output[id]))\n",
    "\n",
    "plt.subplot(131)\n",
    "plt.imshow(label)\n",
    "plt.title('label')\n",
    "\n",
    "plt.subplot(132)\n",
    "plt.imshow(input)\n",
    "plt.title('input')\n",
    "\n",
    "plt.subplot(133)\n",
    "plt.imshow(output)\n",
    "plt.title('output')\n"
   ]
  }
 ],
 "metadata": {
  "language_info": {
   "name": "python"
  },
  "orig_nbformat": 4
 },
 "nbformat": 4,
 "nbformat_minor": 2
}
